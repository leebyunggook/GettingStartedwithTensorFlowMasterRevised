{
 "cells": [
  {
   "cell_type": "markdown",
   "metadata": {},
   "source": [
    "# MINIST Data Set"
   ]
  },
  {
   "cell_type": "code",
   "execution_count": 1,
   "metadata": {
    "collapsed": true
   },
   "outputs": [],
   "source": [
    "import numpy as np \n",
    "import matplotlib as mp\n",
    "\n",
    "%matplotlib inline\n",
    "import matplotlib.pyplot as plt\n",
    "import tensorflow as tf\n",
    "import tensorflow.contrib.slim as slim\n",
    "\n",
    "from tensorflow.examples.tutorials.mnist import input_data\n",
    "import math"
   ]
  },
  {
   "cell_type": "code",
   "execution_count": 3,
   "metadata": {
    "collapsed": false
   },
   "outputs": [
    {
     "name": "stdout",
     "output_type": "stream",
     "text": [
      "Extracting /tmp/data/train-images-idx3-ubyte.gz\n",
      "Extracting /tmp/data/train-labels-idx1-ubyte.gz\n",
      "Extracting /tmp/data/t10k-images-idx3-ubyte.gz\n",
      "Extracting /tmp/data/t10k-labels-idx1-ubyte.gz\n"
     ]
    }
   ],
   "source": [
    "# Import MINST data\n",
    "mnist = input_data.read_data_sets(\"/tmp/data/\", one_hot=True)"
   ]
  },
  {
   "cell_type": "code",
   "execution_count": 4,
   "metadata": {
    "collapsed": false
   },
   "outputs": [
    {
     "name": "stdout",
     "output_type": "stream",
     "text": [
      "Help on function read_data_sets in module tensorflow.contrib.learn.python.learn.datasets.mnist:\n",
      "\n",
      "read_data_sets(train_dir, fake_data=False, one_hot=False, dtype=tf.float32, reshape=True, validation_size=5000)\n",
      "\n"
     ]
    }
   ],
   "source": [
    "help(input_data.read_data_sets)"
   ]
  },
  {
   "cell_type": "markdown",
   "metadata": {},
   "source": [
    "55000 mnist.train.images, labels"
   ]
  },
  {
   "cell_type": "code",
   "execution_count": 8,
   "metadata": {
    "collapsed": false
   },
   "outputs": [
    {
     "name": "stdout",
     "output_type": "stream",
     "text": [
      "Help on function imshow in module matplotlib.pyplot:\n",
      "\n",
      "imshow(X, cmap=None, norm=None, aspect=None, interpolation=None, alpha=None, vmin=None, vmax=None, origin=None, extent=None, shape=None, filternorm=1, filterrad=4.0, imlim=None, resample=None, url=None, hold=None, data=None, **kwargs)\n",
      "    Display an image on the axes.\n",
      "    \n",
      "    Parameters\n",
      "    ----------\n",
      "    X : array_like, shape (n, m) or (n, m, 3) or (n, m, 4)\n",
      "        Display the image in `X` to current axes.  `X` may be an\n",
      "        array or a PIL image. If `X` is an array, it\n",
      "        can have the following shapes and types:\n",
      "    \n",
      "        - MxN -- values to be mapped (float or int)\n",
      "        - MxNx3 -- RGB (float or uint8)\n",
      "        - MxNx4 -- RGBA (float or uint8)\n",
      "    \n",
      "        The value for each component of MxNx3 and MxNx4 float arrays\n",
      "        should be in the range 0.0 to 1.0. MxN arrays are mapped\n",
      "        to colors based on the `norm` (mapping scalar to scalar)\n",
      "        and the `cmap` (mapping the normed scalar to a color).\n",
      "    \n",
      "    cmap : `~matplotlib.colors.Colormap`, optional, default: None\n",
      "        If None, default to rc `image.cmap` value. `cmap` is ignored\n",
      "        if `X` is 3-D, directly specifying RGB(A) values.\n",
      "    \n",
      "    aspect : ['auto' | 'equal' | scalar], optional, default: None\n",
      "        If 'auto', changes the image aspect ratio to match that of the\n",
      "        axes.\n",
      "    \n",
      "        If 'equal', and `extent` is None, changes the axes aspect ratio to\n",
      "        match that of the image. If `extent` is not `None`, the axes\n",
      "        aspect ratio is changed to match that of the extent.\n",
      "    \n",
      "        If None, default to rc ``image.aspect`` value.\n",
      "    \n",
      "    interpolation : string, optional, default: None\n",
      "        Acceptable values are 'none', 'nearest', 'bilinear', 'bicubic',\n",
      "        'spline16', 'spline36', 'hanning', 'hamming', 'hermite', 'kaiser',\n",
      "        'quadric', 'catrom', 'gaussian', 'bessel', 'mitchell', 'sinc',\n",
      "        'lanczos'\n",
      "    \n",
      "        If `interpolation` is None, default to rc `image.interpolation`.\n",
      "        See also the `filternorm` and `filterrad` parameters.\n",
      "        If `interpolation` is 'none', then no interpolation is performed\n",
      "        on the Agg, ps and pdf backends. Other backends will fall back to\n",
      "        'nearest'.\n",
      "    \n",
      "    norm : `~matplotlib.colors.Normalize`, optional, default: None\n",
      "        A `~matplotlib.colors.Normalize` instance is used to scale\n",
      "        a 2-D float `X` input to the (0, 1) range for input to the\n",
      "        `cmap`. If `norm` is None, use the default func:`normalize`.\n",
      "        If `norm` is an instance of `~matplotlib.colors.NoNorm`,\n",
      "        `X` must be an array of integers that index directly into\n",
      "        the lookup table of the `cmap`.\n",
      "    \n",
      "    vmin, vmax : scalar, optional, default: None\n",
      "        `vmin` and `vmax` are used in conjunction with norm to normalize\n",
      "        luminance data.  Note if you pass a `norm` instance, your\n",
      "        settings for `vmin` and `vmax` will be ignored.\n",
      "    \n",
      "    alpha : scalar, optional, default: None\n",
      "        The alpha blending value, between 0 (transparent) and 1 (opaque)\n",
      "    \n",
      "    origin : ['upper' | 'lower'], optional, default: None\n",
      "        Place the [0,0] index of the array in the upper left or lower left\n",
      "        corner of the axes. If None, default to rc `image.origin`.\n",
      "    \n",
      "    extent : scalars (left, right, bottom, top), optional, default: None\n",
      "        The location, in data-coordinates, of the lower-left and\n",
      "        upper-right corners. If `None`, the image is positioned such that\n",
      "        the pixel centers fall on zero-based (row, column) indices.\n",
      "    \n",
      "    shape : scalars (columns, rows), optional, default: None\n",
      "        For raw buffer images\n",
      "    \n",
      "    filternorm : scalar, optional, default: 1\n",
      "        A parameter for the antigrain image resize filter.  From the\n",
      "        antigrain documentation, if `filternorm` = 1, the filter\n",
      "        normalizes integer values and corrects the rounding errors. It\n",
      "        doesn't do anything with the source floating point values, it\n",
      "        corrects only integers according to the rule of 1.0 which means\n",
      "        that any sum of pixel weights must be equal to 1.0.  So, the\n",
      "        filter function must produce a graph of the proper shape.\n",
      "    \n",
      "    filterrad : scalar, optional, default: 4.0\n",
      "        The filter radius for filters that have a radius parameter, i.e.\n",
      "        when interpolation is one of: 'sinc', 'lanczos' or 'blackman'\n",
      "    \n",
      "    Returns\n",
      "    -------\n",
      "    image : `~matplotlib.image.AxesImage`\n",
      "    \n",
      "    Other parameters\n",
      "    ----------------\n",
      "    kwargs : `~matplotlib.artist.Artist` properties.\n",
      "    \n",
      "    See also\n",
      "    --------\n",
      "    matshow : Plot a matrix or an array as an image.\n",
      "    \n",
      "    Notes\n",
      "    -----\n",
      "    Unless *extent* is used, pixel centers will be located at integer\n",
      "    coordinates. In other words: the origin will coincide with the center\n",
      "    of pixel (0, 0).\n",
      "    \n",
      "    Examples\n",
      "    --------\n",
      "    \n",
      "    .. plot:: mpl_examples/pylab_examples/image_demo.py\n",
      "    \n",
      "    .. note::\n",
      "        In addition to the above described arguments, this function can take a\n",
      "        **data** keyword argument. If such a **data** argument is given, the\n",
      "        following arguments are replaced by **data[<arg>]**:\n",
      "    \n",
      "        * All positional and all keyword arguments.\n",
      "\n"
     ]
    }
   ],
   "source": [
    "help(plt.imshow)"
   ]
  },
  {
   "cell_type": "code",
   "execution_count": 10,
   "metadata": {
    "collapsed": false
   },
   "outputs": [
    {
     "name": "stdout",
     "output_type": "stream",
     "text": [
      "[ 0.  0.  0.  0.  0.  0.  1.  0.  0.  0.]\n",
      "55000\n"
     ]
    },
    {
     "data": {
      "image/png": "[encoded data removed]",
      "text/plain": [
       "<matplotlib.figure.Figure at 0xb1cb2b4f60>"
      ]
     },
     "metadata": {},
     "output_type": "display_data"
    }
   ],
   "source": [
    "i = 222\n",
    "arr = np.array(mnist.train.images[i])\n",
    "arr.shape = (28,28)\n",
    "plt.imshow(arr, cmap=\"gray\")\n",
    "print(mnist.train.labels[i])\n",
    "print(mnist.train.num_examples)"
   ]
  },
  {
   "cell_type": "code",
   "execution_count": 15,
   "metadata": {
    "collapsed": false
   },
   "outputs": [
    {
     "name": "stdout",
     "output_type": "stream",
     "text": [
      "[ 0.  0.  0.  0.  0.  0.  1.  0.  0.  0.]\n",
      "10000\n"
     ]
    },
    {
     "data": {
      "image/png": "[encoded data removed]",
      "text/plain": [
       "<matplotlib.figure.Figure at 0xb1cb2f9a90>"
      ]
     },
     "metadata": {},
     "output_type": "display_data"
    }
   ],
   "source": [
    "i = 130\n",
    "img = mnist.test.images[i]\n",
    "plt.imshow(np.reshape(img, [28,28]), cmap=\"gray\")\n",
    "print(mnist.test.labels[i])\n",
    "print(mnist.test.num_examples)"
   ]
  },
  {
   "cell_type": "code",
   "execution_count": 16,
   "metadata": {
    "collapsed": false
   },
   "outputs": [
    {
     "data": {
      "image/png": "[encoded data removed]",
      "text/plain": [
       "<matplotlib.figure.Figure at 0xb1cb7746d8>"
      ]
     },
     "metadata": {},
     "output_type": "display_data"
    }
   ],
   "source": [
    "n_rows=5\n",
    "n_columns=5\n",
    "batch_xs, batch_ys = mnist.train.next_batch(n_rows*n_columns)\n",
    "plt.figure(1, figsize=(20,20))\n",
    "for i in range(n_rows*n_columns):\n",
    "    plt.subplot(n_rows, n_columns, i+1)\n",
    "    plt.imshow(np.reshape(batch_xs[i], [28,28]), interpolation=\"nearest\", cmap=\"gray\")"
   ]
  },
  {
   "cell_type": "code",
   "execution_count": 17,
   "metadata": {
    "collapsed": false
   },
   "outputs": [
    {
     "data": {
      "image/png": "[encoded data removed]",
      "text/plain": [
       "<matplotlib.figure.Figure at 0xb1cc1e9dd8>"
      ]
     },
     "metadata": {},
     "output_type": "display_data"
    }
   ],
   "source": [
    "batch_xs, batch_ys = mnist.train.next_batch(n_rows*n_columns)\n",
    "plt.figure(1, figsize=(20,20))\n",
    "for i in range(n_rows*n_columns):\n",
    "    plt.subplot(n_rows, n_columns, i+1)\n",
    "    plt.imshow(np.reshape(batch_xs[i], [28,28]), cmap=\"gray\")"
   ]
  },
  {
   "cell_type": "code",
   "execution_count": null,
   "metadata": {
    "collapsed": true
   },
   "outputs": [],
   "source": []
  },
  {
   "cell_type": "code",
   "execution_count": 19,
   "metadata": {
    "collapsed": true
   },
   "outputs": [],
   "source": [
    "# Parameters\n",
    "learning_rate = 0.01\n",
    "training_epochs = 3 #25\n",
    "batch_size = 100\n",
    "display_step = 1\n",
    "\n",
    "# tf Graph Input\n",
    "x = tf.placeholder(\"float\", [None, 784]) # mnist data image of shape 28*28=784\n",
    "y = tf.placeholder(\"float\", [None, 10]) # 0-9 digits recognition => 10 classes\n",
    "\n",
    "# Create model\n",
    "\n",
    "# Set model weights\n",
    "W = tf.Variable(tf.zeros([784, 10]))\n",
    "b = tf.Variable(tf.zeros([10]))\n",
    "\n",
    "# Construct model\n",
    "activation = tf.nn.softmax(tf.matmul(x, W) + b) # Softmax\n",
    "\n",
    "# Minimize error using cross entropy\n",
    "cross_entropy = y*tf.log(activation)\n",
    "cost = tf.reduce_mean(-tf.reduce_sum(cross_entropy, reduction_indices=1))\n",
    "\n",
    "optimizer = tf.train.GradientDescentOptimizer(learning_rate).minimize(cost) \n",
    "\n",
    "#Plot settings\n",
    "avg_set = []\n",
    "epoch_set=[]"
   ]
  },
  {
   "cell_type": "code",
   "execution_count": 24,
   "metadata": {
    "collapsed": false
   },
   "outputs": [
    {
     "name": "stdout",
     "output_type": "stream",
     "text": [
      "Epoch: 0001 cost= 1.176638824\n",
      "Epoch: 0002 cost= 0.662823502\n",
      "Epoch: 0003 cost= 0.550439803\n",
      "Training phase finished\n"
     ]
    },
    {
     "data": {
      "image/png": "[encoded data removed]",
      "text/plain": [
       "<matplotlib.figure.Figure at 0xb1cb570908>"
      ]
     },
     "metadata": {},
     "output_type": "display_data"
    },
    {
     "name": "stdout",
     "output_type": "stream",
     "text": [
      "Model accuracy: 0.8821\n"
     ]
    }
   ],
   "source": [
    "# Initializing the variables\n",
    "init = tf.global_variables_initializer()\n",
    "\n",
    "# Launch the graph\n",
    "with tf.Session() as sess:\n",
    "    sess.run(init)\n",
    "    # Training cycle\n",
    "    for epoch in range(training_epochs): #25\n",
    "        avg_cost = 0.\n",
    "        total_batch = int(mnist.train.num_examples/batch_size) #55000/100\n",
    "        # Loop over all batches\n",
    "        for i in range(total_batch): #55000/100\n",
    "            batch_xs, batch_ys = mnist.train.next_batch(batch_size)\n",
    "            # Fit training using batch data\n",
    "            sess.run(optimizer, feed_dict={x: batch_xs, y: batch_ys})\n",
    "            # Compute average loss\n",
    "            avg_cost += sess.run(cost, feed_dict={x: batch_xs, y: batch_ys})/total_batch\n",
    "        # Display logs per epoch step\n",
    "        if epoch % display_step == 0:\n",
    "            print(\"Epoch:\", '%04d' % (epoch+1), \"cost=\", \"{:.9f}\".format(avg_cost))\n",
    "        avg_set.append(avg_cost)\n",
    "        epoch_set.append(epoch+1)\n",
    "        \n",
    "    print(\"Training phase finished\")\n",
    "    plt.plot(epoch_set,avg_set, 'o', label='Logistic Regression Training phase')\n",
    "    plt.ylabel('cost')\n",
    "    plt.xlabel('epoch')\n",
    "    plt.legend()\n",
    "    plt.show()\n",
    "\n",
    "    # Test model\n",
    "    correct_prediction = tf.equal(tf.argmax(activation, 1), tf.argmax(y, 1))\n",
    "    # Calculate accuracy\n",
    "    accuracy = tf.reduce_mean(tf.cast(correct_prediction, \"float\"))\n",
    "    print(\"Model accuracy:\", accuracy.eval({x: mnist.test.images, y: mnist.test.labels}))\n",
    "    _W=sess.run(W)\n",
    "    _b=sess.run(b)"
   ]
  },
  {
   "cell_type": "code",
   "execution_count": 25,
   "metadata": {
    "collapsed": false
   },
   "outputs": [
    {
     "name": "stdout",
     "output_type": "stream",
     "text": [
      "[  0.00000000e+00   0.00000000e+00   0.00000000e+00   0.00000000e+00\n",
      "   0.00000000e+00   0.00000000e+00   0.00000000e+00   0.00000000e+00\n",
      "   0.00000000e+00   0.00000000e+00   0.00000000e+00   0.00000000e+00\n",
      "  -2.38968391e-06  -1.17366772e-05  -7.23781159e-06  -3.01575454e-07\n",
      "   0.00000000e+00   0.00000000e+00   0.00000000e+00   0.00000000e+00\n",
      "   0.00000000e+00   0.00000000e+00   0.00000000e+00   0.00000000e+00\n",
      "   0.00000000e+00   0.00000000e+00   0.00000000e+00   0.00000000e+00\n",
      "   0.00000000e+00   0.00000000e+00   0.00000000e+00   0.00000000e+00\n",
      "  -1.94967015e-07  -8.95093308e-07  -1.97554891e-05  -4.64637305e-05\n",
      "  -8.60403015e-05  -1.24757149e-04  -2.21638882e-04  -1.24720173e-04\n",
      "  -3.39235498e-06  -1.44595979e-04  -3.44992266e-04  -2.03880481e-04\n",
      "  -7.22728000e-05  -1.46585342e-04  -1.75800000e-04  -1.29631779e-04\n",
      "  -8.22988004e-05  -4.33151545e-05  -1.71109641e-05  -5.53863174e-06\n",
      "   0.00000000e+00   0.00000000e+00   0.00000000e+00   0.00000000e+00\n",
      "   0.00000000e+00   0.00000000e+00  -1.89602815e-06   1.45615386e-05\n",
      "  -5.39497023e-06  -1.47192677e-05  -1.27931635e-04  -2.46678945e-04\n",
      "  -6.20896579e-04  -1.43994845e-03  -2.30129785e-03  -2.93522701e-03\n",
      "  -3.90398619e-03  -4.91011329e-03  -6.37719175e-03  -7.29283364e-03\n",
      "  -7.42811430e-03  -6.73590088e-03  -5.95092541e-03  -4.92979540e-03\n",
      "  -3.34373582e-03  -1.83960632e-03  -9.52688337e-04  -3.49366455e-04\n",
      "  -1.07615168e-04  -1.51306767e-05   0.00000000e+00   0.00000000e+00\n",
      "   0.00000000e+00   0.00000000e+00  -5.56303485e-06   2.45903193e-05\n",
      "  -3.51101335e-05  -3.35105258e-04  -7.84758246e-04  -1.59038894e-03\n",
      "  -2.79211835e-03  -5.60848974e-03  -8.13526753e-03  -9.85037070e-03\n",
      "  -1.24727283e-02  -1.48806823e-02  -1.83130186e-02  -1.96194910e-02\n",
      "  -1.99249964e-02  -2.12153047e-02  -2.05792226e-02  -1.69076882e-02\n",
      "  -1.19633470e-02  -7.70789385e-03  -4.55520907e-03  -1.89903635e-03\n",
      "  -6.45918713e-04  -1.02491569e-04  -1.44514770e-05   0.00000000e+00\n",
      "   0.00000000e+00  -6.34079356e-07  -1.08864378e-05   2.59306507e-05\n",
      "  -2.10657628e-04  -1.36982684e-03  -2.98656151e-03  -5.62177738e-03\n",
      "  -9.63317789e-03  -1.40475277e-02  -1.82773154e-02  -1.85692459e-02\n",
      "  -1.40975034e-02  -5.51896216e-03   2.30736937e-03   1.20708672e-02\n",
      "   1.08346976e-02   5.92580158e-03   9.02044485e-05  -4.00067726e-03\n",
      "  -7.68804178e-03  -9.04566702e-03  -7.98191782e-03  -6.44429494e-03\n",
      "  -3.44782160e-03  -9.03152570e-04  -1.38751144e-04  -4.01393027e-06\n",
      "   0.00000000e+00   0.00000000e+00  -3.18611128e-05  -3.85496060e-05\n",
      "  -1.01662846e-03  -3.83188413e-03  -7.43189221e-03  -1.38831064e-02\n",
      "  -2.16189083e-02  -2.68494487e-02  -2.61423346e-02  -1.80576630e-02\n",
      "  -3.32763442e-03   1.96701325e-02   3.98428999e-02   5.60283549e-02\n",
      "   6.29600734e-02   5.61667047e-02   3.95807773e-02   2.05845479e-02\n",
      "   1.80680898e-03  -7.52853276e-03  -1.31744323e-02  -1.50440652e-02\n",
      "  -9.80791822e-03  -3.29460017e-03  -6.99554046e-04  -3.49854490e-05\n",
      "   0.00000000e+00  -2.82725466e-07  -6.61064551e-05  -5.07373770e-04\n",
      "  -2.41578044e-03  -6.11801166e-03  -1.28533235e-02  -2.20885240e-02\n",
      "  -2.96206381e-02  -3.22280861e-02  -2.49410495e-02  -9.69794113e-03\n",
      "   9.03647207e-03   3.10114697e-02   4.81619723e-02   6.40692338e-02\n",
      "   7.64142573e-02   8.18794370e-02   7.04629570e-02   4.55517285e-02\n",
      "   2.27977205e-02   6.34345366e-03  -5.49468352e-03  -1.69342849e-02\n",
      "  -1.66835301e-02  -7.32754078e-03  -1.76531298e-03  -1.20598183e-04\n",
      "   0.00000000e+00  -3.15462239e-05  -2.43004659e-04  -1.12028664e-03\n",
      "  -4.65829950e-03  -9.81567986e-03  -1.82791892e-02  -2.69085709e-02\n",
      "  -3.16381939e-02  -2.58952603e-02  -1.51412161e-02   9.15010518e-04\n",
      "   1.65908318e-02   2.96353400e-02   4.21998575e-02   5.31863980e-02\n",
      "   6.82901815e-02   8.46121460e-02   8.59670639e-02   6.74645156e-02\n",
      "   4.08106707e-02   2.08805632e-02   8.43809359e-03  -9.85532999e-03\n",
      "  -1.88573766e-02  -1.04562975e-02  -2.30467529e-03  -8.89824059e-06\n",
      "   5.98156621e-05  -1.00075893e-04  -7.87790806e-04  -2.63819448e-03\n",
      "  -7.73832155e-03  -1.39742726e-02  -2.09316555e-02  -2.55563650e-02\n",
      "  -2.44004969e-02  -1.65371988e-02  -5.01436647e-03   9.88192018e-03\n",
      "   2.58714166e-02   3.51655856e-02   3.99308577e-02   4.39748280e-02\n",
      "   5.42850941e-02   6.39589503e-02   7.67414421e-02   7.84266219e-02\n",
      "   6.46566525e-02   4.21093889e-02   2.78141797e-02   8.05968605e-03\n",
      "  -1.37464050e-02  -1.13290902e-02  -2.29333458e-03  -9.43576088e-05\n",
      "  -6.34107209e-06  -1.48490013e-04  -1.23158400e-03  -3.74286273e-03\n",
      "  -9.27387737e-03  -1.50856003e-02  -1.83115806e-02  -1.70548875e-02\n",
      "  -1.31426100e-02  -3.50961322e-03   1.01964017e-02   2.50913594e-02\n",
      "   4.27170210e-02   4.81129773e-02   3.49217579e-02   1.98654849e-02\n",
      "   1.29384119e-02   2.21108943e-02   5.00344262e-02   7.48768821e-02\n",
      "   8.00702572e-02   6.91355094e-02   5.62729314e-02   3.27499136e-02\n",
      "  -3.13637371e-04  -8.48528277e-03  -1.79824932e-03  -1.02299906e-04\n",
      "  -1.02757040e-05  -2.26768389e-04  -1.21798133e-03  -4.27911151e-03\n",
      "  -9.39826760e-03  -1.22118155e-02  -9.87367705e-03  -3.31411697e-03\n",
      "   1.11165200e-03   1.07971486e-02   2.48349030e-02   4.52156514e-02\n",
      "   5.05911298e-02   3.38192098e-02   3.75354965e-03  -2.83640549e-02\n",
      "  -4.44689244e-02  -3.06834225e-02   1.09663783e-02   5.66217266e-02\n",
      "   8.81029516e-02   9.34828669e-02   8.87093470e-02   5.93069978e-02\n",
      "   1.36490874e-02  -4.82493965e-03  -1.33954606e-03  -6.59020516e-05\n",
      "  -9.60056514e-06  -1.59566203e-04  -1.25185866e-03  -4.02359199e-03\n",
      "  -9.05223656e-03  -6.74919970e-03   4.32899175e-03   1.44575434e-02\n",
      "   1.71442106e-02   2.44050175e-02   4.09370027e-02   4.71823290e-02\n",
      "   2.68167201e-02  -9.44996532e-03  -5.54209277e-02  -9.23106670e-02\n",
      "  -1.07238755e-01  -8.69086757e-02  -3.54572162e-02   3.34686041e-02\n",
      "   8.48884061e-02   1.08625390e-01   1.09959356e-01   7.97002390e-02\n",
      "   2.50096023e-02  -1.60125643e-03  -6.37581397e-04  -3.19265564e-05\n",
      "  -2.92925552e-06  -9.49194582e-05  -8.75040598e-04  -3.61974677e-03\n",
      "  -7.42685329e-03   3.07298522e-03   2.22890247e-02   3.24450992e-02\n",
      "   3.14046219e-02   4.12066020e-02   5.24226092e-02   3.10812332e-02\n",
      "  -1.24820098e-02  -6.95882738e-02  -1.21956758e-01  -1.51684731e-01\n",
      "  -1.61619037e-01  -1.37124196e-01  -7.24579096e-02   9.47622769e-03\n",
      "   7.47121647e-02   1.10473394e-01   1.18867919e-01   9.04238746e-02\n",
      "   3.27686369e-02   1.28425032e-04  -3.17751925e-04  -2.54153274e-05\n",
      "  -1.86937172e-07   1.07382884e-05  -5.07991354e-04  -2.98139127e-03\n",
      "  -4.31832671e-03   1.67104490e-02   4.03087102e-02   5.23997992e-02\n",
      "   5.20392656e-02   6.15187362e-02   5.03241532e-02   6.51961134e-04\n",
      "  -6.55825436e-02  -1.31189600e-01  -1.69939682e-01  -1.90596342e-01\n",
      "  -1.94684938e-01  -1.64628804e-01  -9.21080709e-02  -5.51733794e-03\n",
      "   6.53170124e-02   1.06575839e-01   1.15606874e-01   8.89775902e-02\n",
      "   3.47715504e-02   7.63756922e-04  -2.25783209e-04  -4.43089630e-05\n",
      "  -8.74816487e-06  -2.95972841e-05  -3.00593849e-04  -2.76969490e-03\n",
      "  -7.03491853e-04   3.17798592e-02   5.91475591e-02   7.39717111e-02\n",
      "   7.75334314e-02   7.67255872e-02   4.07849438e-02  -3.34285833e-02\n",
      "  -1.10501662e-01  -1.67796046e-01  -1.96623296e-01  -2.09058598e-01\n",
      "  -2.02502280e-01  -1.58166975e-01  -8.29983875e-02  -7.87912577e-04\n",
      "   6.42279014e-02   9.70938876e-02   1.00936197e-01   7.93534443e-02\n",
      "   3.36102210e-02   5.76303166e-04  -2.23865281e-04  -6.63783067e-06\n",
      "  -3.29432623e-06  -2.18150453e-05  -2.22263567e-04  -3.20049492e-03\n",
      "   4.95255599e-03   4.63419035e-02   7.42229372e-02   9.10626799e-02\n",
      "   9.71726477e-02   8.46273229e-02   2.84572206e-02  -6.25337213e-02\n",
      "  -1.37163222e-01  -1.84673831e-01  -2.06706166e-01  -2.08853722e-01\n",
      "  -1.84835181e-01  -1.27277434e-01  -5.03869019e-02   1.96354594e-02\n",
      "   6.45240322e-02   8.09705257e-02   8.22231248e-02   6.52238727e-02\n",
      "   2.71196868e-02  -2.04460026e-04  -3.33598407e-04  -3.18634447e-05\n",
      "  -2.45647470e-06  -1.47004739e-05  -3.31066287e-04  -3.86687741e-03\n",
      "   8.69097840e-03   5.61257228e-02   8.65678713e-02   1.01654224e-01\n",
      "   1.08384944e-01   8.18050504e-02   1.57348439e-02  -7.39914253e-02\n",
      "  -1.40618607e-01  -1.76762596e-01  -1.91847742e-01  -1.83982939e-01\n",
      "  -1.45403355e-01  -7.92699978e-02  -1.04582217e-02   4.00369540e-02\n",
      "   6.18453510e-02   6.59236684e-02   6.27218336e-02   4.69324365e-02\n",
      "   1.72581486e-02  -1.24973792e-03  -4.59208095e-04  -3.24080720e-05\n",
      "   0.00000000e+00  -1.31983206e-05  -4.93452069e-04  -5.13930898e-03\n",
      "   9.64916870e-03   5.87366670e-02   9.10720527e-02   1.08581364e-01\n",
      "   1.12840027e-01   8.25792477e-02   1.43670142e-02  -6.79492429e-02\n",
      "  -1.20057151e-01  -1.49501711e-01  -1.59412026e-01  -1.37846276e-01\n",
      "  -8.80494118e-02  -2.69089490e-02   1.99810639e-02   4.65193391e-02\n",
      "   5.11104651e-02   4.84239981e-02   4.51211445e-02   2.70064287e-02\n",
      "   7.90380500e-03  -1.59997796e-03  -3.61049315e-04   9.74339928e-05\n",
      "  -4.00584440e-06  -6.91790410e-06  -6.68254041e-04  -7.27786077e-03\n",
      "   6.37776498e-03   5.13526723e-02   8.41038823e-02   1.07691474e-01\n",
      "   1.15976363e-01   8.80004168e-02   2.60298420e-02  -4.31157909e-02\n",
      "  -8.81807730e-02  -1.09125048e-01  -1.08421482e-01  -7.91973993e-02\n",
      "  -3.48214805e-02   6.49969326e-03   3.18234302e-02   3.89178321e-02\n",
      "   3.37753445e-02   3.13789397e-02   2.57239006e-02   1.02834180e-02\n",
      "   5.62768080e-04  -1.82030979e-03  -3.11235926e-04  -4.82494979e-05\n",
      "  -4.20340825e-07   4.28285857e-05  -8.59944848e-04  -7.91744422e-03\n",
      "   2.27439846e-03   3.79192308e-02   7.03088492e-02   9.53203365e-02\n",
      "   1.07900418e-01   9.55661684e-02   4.82975356e-02  -6.73810486e-03\n",
      "  -4.36936915e-02  -5.84493317e-02  -5.10670729e-02  -2.80869994e-02\n",
      "   1.50926586e-03   2.38159075e-02   2.90529020e-02   2.27354746e-02\n",
      "   1.77227966e-02   1.62501130e-02   8.69767275e-03  -1.06532709e-03\n",
      "  -3.32855177e-03  -1.71159417e-03  -3.27532121e-04  -2.09938280e-05\n",
      "   0.00000000e+00   1.22275087e-04  -8.74501129e-04  -7.25968648e-03\n",
      "  -1.69949175e-03   2.41212845e-02   5.07281795e-02   7.44065642e-02\n",
      "   9.33546275e-02   9.83233452e-02   7.59599656e-02   3.71144675e-02\n",
      "   4.71367314e-03  -1.02105690e-02  -6.64276490e-03   9.27632302e-03\n",
      "   1.95336249e-02   2.23528203e-02   1.28961457e-02   7.03296810e-03\n",
      "   5.24331909e-03   2.73233233e-03  -4.54556756e-03  -6.85696956e-03\n",
      "  -3.83685506e-03  -1.22223771e-03  -1.94649852e-04  -2.99164185e-06\n",
      "  -1.16238277e-06  -2.55231371e-05  -7.71509658e-04  -5.34166209e-03\n",
      "  -3.76893999e-03   1.12545919e-02   3.14539671e-02   5.26107363e-02\n",
      "   7.42513463e-02   9.49866846e-02   9.74626169e-02   7.97749981e-02\n",
      "   5.27558103e-02   3.49680670e-02   3.16076279e-02   3.19741182e-02\n",
      "   2.51212437e-02   1.17930463e-02   1.77626940e-03  -5.25396550e-03\n",
      "  -7.54755223e-03  -1.03701008e-02  -1.02888737e-02  -6.27423869e-03\n",
      "  -2.43946235e-03  -6.52950257e-04   5.62619643e-05   7.35629328e-06\n",
      "  -1.12605835e-06  -1.43712771e-06  -4.87995945e-04  -3.15253297e-03\n",
      "  -5.83522161e-03   1.75164826e-03   1.65207908e-02   3.36569697e-02\n",
      "   5.54323718e-02   7.73066431e-02   9.37027931e-02   9.90017653e-02\n",
      "   8.88815001e-02   7.77313709e-02   5.84437512e-02   3.87926176e-02\n",
      "   1.79910995e-02   7.63486198e-04  -1.17136752e-02  -1.63464583e-02\n",
      "  -1.76725741e-02  -1.40424781e-02  -8.48127436e-03  -3.85763869e-03\n",
      "  -1.10081409e-03  -2.32256512e-04  -2.38002872e-06   1.35808496e-05\n",
      "   0.00000000e+00   0.00000000e+00  -1.47324259e-04  -1.13290432e-03\n",
      "  -3.68110952e-03  -3.50987073e-03   3.23972286e-04   1.01963421e-02\n",
      "   2.18366552e-02   3.88119891e-02   5.38309105e-02   6.55806959e-02\n",
      "   6.60460070e-02   5.26941419e-02   3.32595855e-02   1.07679656e-02\n",
      "  -8.05076770e-03  -1.89566705e-02  -2.35409718e-02  -2.20584478e-02\n",
      "  -1.65693443e-02  -1.00749061e-02  -5.24172327e-03  -2.04019272e-03\n",
      "  -5.14527375e-04  -9.80127588e-05  -7.56303052e-06   0.00000000e+00\n",
      "   0.00000000e+00   0.00000000e+00  -6.83183171e-05  -2.76450475e-04\n",
      "  -1.09798869e-03  -2.98275566e-03  -5.39242476e-03  -9.45606548e-03\n",
      "  -1.27710029e-02  -1.58735625e-02  -1.74646862e-02  -1.86606981e-02\n",
      "  -1.81165095e-02  -2.01037992e-02  -2.38433070e-02  -2.68142708e-02\n",
      "  -2.78321076e-02  -2.57149357e-02  -2.09005363e-02  -1.51488371e-02\n",
      "  -9.70856473e-03  -5.87730762e-03  -3.03882477e-03  -1.19069417e-03\n",
      "  -2.54740444e-04  -1.85807821e-05  -2.15904447e-06   0.00000000e+00\n",
      "   0.00000000e+00   0.00000000e+00  -6.33480067e-06  -5.32718950e-05\n",
      "  -3.63729021e-04  -1.28770526e-03  -3.58957425e-03  -7.30522396e-03\n",
      "  -1.24661820e-02  -1.82405300e-02  -2.34929975e-02  -2.65525617e-02\n",
      "  -2.85435710e-02  -2.80660875e-02  -2.56180223e-02  -2.26149652e-02\n",
      "  -1.97800323e-02  -1.62550006e-02  -1.16223041e-02  -7.42739346e-03\n",
      "  -4.48241783e-03  -2.67629931e-03  -1.31286425e-03  -5.26249351e-04\n",
      "  -1.10435954e-04  -2.48262040e-06  -2.04609364e-06   0.00000000e+00\n",
      "   0.00000000e+00   0.00000000e+00   0.00000000e+00   0.00000000e+00\n",
      "  -7.43891651e-05  -3.91519396e-04  -1.23494503e-03  -2.44082022e-03\n",
      "  -4.38494794e-03  -6.37708092e-03  -7.60112191e-03  -8.74514133e-03\n",
      "  -9.08742193e-03  -9.57182888e-03  -9.45085101e-03  -8.50010291e-03\n",
      "  -7.33272778e-03  -5.76248439e-03  -4.07210179e-03  -2.39532907e-03\n",
      "  -1.45385554e-03  -8.17833876e-04  -3.46516725e-04  -5.73812504e-05\n",
      "  -2.01748935e-06  -3.03329216e-06   0.00000000e+00   0.00000000e+00\n",
      "   0.00000000e+00   0.00000000e+00   0.00000000e+00   0.00000000e+00\n",
      "  -3.30898638e-06  -2.99806179e-05  -9.71874906e-05  -1.69275547e-04\n",
      "  -2.43180504e-04  -3.84001090e-04  -5.16902714e-04  -6.44363114e-04\n",
      "  -9.37422854e-04  -1.24998286e-03  -1.78227748e-03  -1.65828934e-03\n",
      "  -1.42659631e-03  -1.10479363e-03  -7.67694903e-04  -3.55443015e-04\n",
      "  -2.16836081e-04  -1.18765092e-04  -2.22123679e-04  -5.01337381e-05\n",
      "   0.00000000e+00   0.00000000e+00   0.00000000e+00]\n",
      "[-0.06001754  0.1314142  -0.03180079 -0.04236742  0.03748064  0.09234115\n",
      " -0.01322286  0.07096477 -0.16248517 -0.02230665]\n"
     ]
    }
   ],
   "source": [
    "print(_W[0:-1,0])\n",
    "print(_b)"
   ]
  },
  {
   "cell_type": "code",
   "execution_count": 44,
   "metadata": {
    "collapsed": true
   },
   "outputs": [],
   "source": [
    "#print(W)"
   ]
  },
  {
   "cell_type": "code",
   "execution_count": 47,
   "metadata": {
    "collapsed": false
   },
   "outputs": [
    {
     "name": "stdout",
     "output_type": "stream",
     "text": [
      "[ 0.  0.  0.  1.  0.  0.  0.  0.  0.  0.]\n",
      "10000\n",
      "[ 0.38278231 -0.30585274  1.37698853  3.15606403 -3.6363306   0.66379118\n",
      "  0.42951694  0.13371441 -1.27128053 -0.92939031]\n"
     ]
    },
    {
     "data": {
      "image/png": "[encoded data removed]",
      "text/plain": [
       "<matplotlib.figure.Figure at 0xb1cf107438>"
      ]
     },
     "metadata": {},
     "output_type": "display_data"
    }
   ],
   "source": [
    "i = 230\n",
    "img = mnist.test.images[i]\n",
    "plt.imshow(np.reshape(img, [28,28]), cmap=\"gray\")\n",
    "print(mnist.test.labels[i])\n",
    "print(mnist.test.num_examples)\n",
    "o=np.dot(img, _W)+_b\n",
    "print(o)"
   ]
  },
  {
   "cell_type": "code",
   "execution_count": null,
   "metadata": {
    "collapsed": true
   },
   "outputs": [],
   "source": [
    "# Parameters\n",
    "learning_rate = 0.001\n",
    "training_epochs = 3 #20\n",
    "batch_size = 100\n",
    "display_step = 1"
   ]
  },
  {
   "cell_type": "code",
   "execution_count": 49,
   "metadata": {
    "collapsed": true
   },
   "outputs": [],
   "source": [
    "# Network Parameters\n",
    "n_hidden_1 = 256 # 1st layer num features\n",
    "n_hidden_2 = 256 # 2nd layer num features\n",
    "n_input = 784 # MNIST data input (img shape: 28*28)\n",
    "n_classes = 10 # MNIST total classes (0-9 digits)\n",
    "\n",
    "# tf Graph input\n",
    "x = tf.placeholder(\"float\", [None, n_input])\n",
    "y = tf.placeholder(\"float\", [None, n_classes])\n",
    "\n",
    "#weights layer 1\n",
    "h = tf.Variable(tf.random_normal([n_input, n_hidden_1]))\n",
    "#bias layer 1\n",
    "bias_layer_1 = tf.Variable(tf.random_normal([n_hidden_1]))\n",
    "#layer 1\n",
    "layer_1 = tf.nn.sigmoid(tf.add(tf.matmul(x,h),bias_layer_1))\n",
    "\n",
    "#weights layer 2\n",
    "w = tf.Variable(tf.random_normal([n_hidden_1, n_hidden_2]))\n",
    "#bias layer 2\n",
    "bias_layer_2 = tf.Variable(tf.random_normal([n_hidden_2]))\n",
    "#layer 2\n",
    "layer_2 = tf.nn.sigmoid(tf.add(tf.matmul(layer_1,w),bias_layer_2))\n",
    "\n",
    "#weights output layer\n",
    "output = tf.Variable(tf.random_normal([n_hidden_2, n_classes]))\n",
    "#biar output layer\n",
    "bias_output = tf.Variable(tf.random_normal([n_classes]))\n",
    "#output layer\n",
    "output_layer = tf.matmul(layer_2, output) + bias_output\n",
    "\n",
    "# cost function\n",
    "cost = tf.reduce_mean(tf.nn.softmax_cross_entropy_with_logits(output_layer, y))\n",
    "# optimizer\n",
    "optimizer = tf.train.AdamOptimizer(learning_rate=learning_rate).minimize(cost) \n",
    "#optimizer = tf.train.GradientDescentOptimizer(learning_rate=learning_rate).minimize(cost)"
   ]
  },
  {
   "cell_type": "code",
   "execution_count": 53,
   "metadata": {
    "collapsed": false
   },
   "outputs": [
    {
     "name": "stdout",
     "output_type": "stream",
     "text": [
      "WARNING:tensorflow:From <ipython-input-53-9443f31d997c>:6 in <module>.: initialize_all_variables (from tensorflow.python.ops.variables) is deprecated and will be removed after 2017-03-02.\n",
      "Instructions for updating:\n",
      "Use `tf.global_variables_initializer` instead.\n",
      "Epoch: 0001 cost= 0.467662200\n",
      "Epoch: 0002 cost= 0.175848738\n",
      "Epoch: 0003 cost= 0.121091739\n",
      "Training phase finished\n"
     ]
    },
    {
     "data": {
      "image/png": "[encoded data removed]",
      "text/plain": [
       "<matplotlib.figure.Figure at 0xb1cb3f6518>"
      ]
     },
     "metadata": {},
     "output_type": "display_data"
    },
    {
     "name": "stdout",
     "output_type": "stream",
     "text": [
      "Model Accuracy: 0.0791\n"
     ]
    }
   ],
   "source": [
    "#Plot settings\n",
    "avg_set = []\n",
    "epoch_set=[]\n",
    "    \n",
    "# Initializing the variables\n",
    "init = tf.global_variables_initializer()\n",
    "\n",
    "# Launch the graph\n",
    "with tf.Session() as sess:\n",
    "    sess.run(init)\n",
    "\n",
    "    # Training cycle\n",
    "    for epoch in range(training_epochs):\n",
    "        avg_cost = 0.\n",
    "        total_batch = int(mnist.train.num_examples/batch_size)\n",
    "        # Loop over all batches\n",
    "        for i in range(total_batch):\n",
    "            batch_xs, batch_ys = mnist.train.next_batch(batch_size)\n",
    "            # Fit training using batch data\n",
    "            sess.run(optimizer, feed_dict={x: batch_xs, y: batch_ys})\n",
    "            # Compute average loss\n",
    "            avg_cost += sess.run(cost, feed_dict={x: batch_xs, y: batch_ys})/total_batch\n",
    "        # Display logs per epoch step\n",
    "        if epoch % display_step == 0:\n",
    "            print(\"Epoch:\", '%04d' % (epoch+1), \"cost=\", \"{:.9f}\".format(avg_cost))\n",
    "        avg_set.append(avg_cost)\n",
    "        epoch_set.append(epoch+1)\n",
    "    print(\"Training phase finished\")\n",
    "\n",
    "    plt.plot(epoch_set,avg_set, 'o', label='MLP Training phase')\n",
    "    plt.ylabel('cost')\n",
    "    plt.xlabel('epoch')\n",
    "    plt.legend()\n",
    "    plt.show()\n",
    "        \n",
    "    # Test model\n",
    "    correct_prediction = tf.equal(tf.argmax(output_layer, 1), tf.argmax(y, 1))\n",
    "    # Calculate accuracy\n",
    "    accuracy = tf.reduce_mean(tf.cast(correct_prediction, \"float\"))\n",
    "    print(\"Model Accuracy:\", accuracy.eval({x: mnist.test.images, y: mnist.test.labels}))\n",
    "    \n",
    "    _h=sess.run(h)\n",
    "    _b1=sess.run(bias_layer_1)\n",
    "    _w=sess.run(w)\n",
    "    _b2=sess.run(bias_layer_2)\n",
    "    _o=sess.run(output)\n",
    "    _bo=sess.run(bias_output)"
   ]
  },
  {
   "cell_type": "code",
   "execution_count": 55,
   "metadata": {
    "collapsed": false
   },
   "outputs": [
    {
     "name": "stdout",
     "output_type": "stream",
     "text": [
      "(784, 256) (256,) (256, 256) (256,) (256, 10) (10,)\n"
     ]
    }
   ],
   "source": [
    "print(_h.shape, _b1.shape, _w.shape, _b2.shape, _o.shape, _bo.shape)"
   ]
  },
  {
   "cell_type": "code",
   "execution_count": 58,
   "metadata": {
    "collapsed": false
   },
   "outputs": [
    {
     "name": "stdout",
     "output_type": "stream",
     "text": [
      "[ 0.  0.  0.  1.  0.  0.  0.  0.  0.  0.]\n",
      "10000\n",
      "[  705.25622559   702.69793701  3323.40844727  2855.76757812   477.95736694\n",
      "  -631.73687744  2212.0534668  -2210.02563477  -534.48083496  1146.99133301]\n"
     ]
    },
    {
     "data": {
      "image/png": "[encoded data removed]",
      "text/plain": [
       "<matplotlib.figure.Figure at 0xb1cb2b66d8>"
      ]
     },
     "metadata": {},
     "output_type": "display_data"
    }
   ],
   "source": [
    "i = 231\n",
    "img = mnist.test.images[i]\n",
    "plt.imshow(np.reshape(img, [28,28]), cmap=\"gray\")\n",
    "print(mnist.test.labels[i])\n",
    "print(mnist.test.num_examples)\n",
    "ly1=np.dot(img, _h)+_b1\n",
    "ly2=np.dot(ly1,_w)+_b2\n",
    "o=np.dot(ly2,_o)+_bo;\n",
    "print(o)"
   ]
  },
  {
   "cell_type": "code",
   "execution_count": null,
   "metadata": {
    "collapsed": true
   },
   "outputs": [],
   "source": []
  },
  {
   "cell_type": "code",
   "execution_count": 61,
   "metadata": {
    "collapsed": false
   },
   "outputs": [
    {
     "data": {
      "image/png": "[encoded data removed]",
      "text/plain": [
       "<matplotlib.figure.Figure at 0xb1cb036d30>"
      ]
     },
     "metadata": {},
     "output_type": "display_data"
    }
   ],
   "source": [
    "np.random.seed(1000) \n",
    "function_to_learn = lambda x: np.cos(x) + 0.1*np.random.randn(*x.shape)\n",
    "layer_1_neurons = 10\n",
    "NUM_points = 1000\n",
    "#TRAIN_SPLIT = .8\n",
    "batch_size = 100\n",
    "NUM_EPOCHS = 150 #1500\n",
    "\n",
    "all_x = np.float32(np.random.uniform(-2*math.pi, 2*math.pi, (1, NUM_points))).T\n",
    "np.random.shuffle(all_x)\n",
    "\n",
    "train_size = int(900)\n",
    "#the first 700 points are in the training set \n",
    "x_training = all_x[:train_size]\n",
    "y_training = function_to_learn(x_training)\n",
    "\n",
    "#the last 300 are in the validation set\n",
    "x_validation = all_x[train_size:]\n",
    "y_validation = function_to_learn(x_validation)\n",
    "\n",
    "plt.figure(1)\n",
    "plt.scatter(x_training, y_training, c='green', label='train')\n",
    "plt.scatter(x_validation, y_validation, c='red', label='validation')\n",
    "plt.legend()\n",
    "plt.show()"
   ]
  },
  {
   "cell_type": "code",
   "execution_count": 62,
   "metadata": {
    "collapsed": true
   },
   "outputs": [],
   "source": [
    "X = tf.placeholder(tf.float32, [None, 1], name=\"X\")\n",
    "Y = tf.placeholder(tf.float32, [None, 1], name=\"Y\")\n",
    "\n",
    "#first layer\n",
    "#Number of neurons = 10\n",
    "w_h = tf.Variable(tf.random_uniform([1, layer_1_neurons],minval=-1, maxval=1, dtype=tf.float32))\n",
    "b_h = tf.Variable(tf.zeros([1, layer_1_neurons], dtype=tf.float32))\n",
    "h = tf.nn.sigmoid(tf.matmul(X, w_h) + b_h)\n",
    "\n",
    "#output layer\n",
    "#Number of neurons = 10\n",
    "w_o = tf.Variable(tf.random_uniform([layer_1_neurons, 1],minval=-1, maxval=1, dtype=tf.float32))\n",
    "b_o = tf.Variable(tf.zeros([1, 1], dtype=tf.float32))\n",
    "\n",
    "#build the model\n",
    "model = tf.matmul(h, w_o) + b_o\n",
    "\n",
    "#minimize the cost function (model - Y)\n",
    "train_op = tf.train.AdamOptimizer().minimize(tf.nn.l2_loss(model - Y))"
   ]
  },
  {
   "cell_type": "code",
   "execution_count": 64,
   "metadata": {
    "collapsed": false
   },
   "outputs": [
    {
     "name": "stdout",
     "output_type": "stream",
     "text": [
      "WARNING:tensorflow:From <ipython-input-64-3f8365424898>:3 in <module>.: initialize_all_variables (from tensorflow.python.ops.variables) is deprecated and will be removed after 2017-03-02.\n",
      "Instructions for updating:\n",
      "Use `tf.global_variables_initializer` instead.\n",
      "epoch 0, cost = 0\n",
      "epoch 100, cost = 0\n",
      "epoch 200, cost = 0\n",
      "epoch 300, cost = 0\n",
      "epoch 400, cost = 0\n",
      "epoch 500, cost = 0\n",
      "epoch 600, cost = 0\n",
      "epoch 700, cost = 0\n",
      "epoch 800, cost = 0\n",
      "epoch 900, cost = 0\n",
      "epoch 1000, cost = 0\n",
      "epoch 1100, cost = 0\n",
      "epoch 1200, cost = 0\n",
      "epoch 1300, cost = 0\n",
      "epoch 1400, cost = 0\n"
     ]
    },
    {
     "data": {
      "image/png": "[encoded data removed]",
      "text/plain": [
       "<matplotlib.figure.Figure at 0xb1cc142898>"
      ]
     },
     "metadata": {},
     "output_type": "display_data"
    }
   ],
   "source": [
    "#Start the Learning phase\n",
    "sess = tf.Session()\n",
    "sess.run(tf.global_variables_initializer())\n",
    "\n",
    "errors = []\n",
    "for i in range(NUM_EPOCHS):\n",
    "    for start, end in zip(range(0, len(x_training), batch_size), range(batch_size, len(x_training), batch_size)):\n",
    "        sess.run(train_op, feed_dict={X: x_training[start:end], Y: y_training[start:end]})\n",
    "    cost = sess.run(tf.nn.l2_loss(model - y_validation), feed_dict={X:x_validation})\n",
    "    errors.append(cost)\n",
    "    if i%100 == 0: print(\"epoch %d, cost = %g\" % (i, cost))\n",
    "\n",
    "plt.plot(errors,label='MLP Function Approximation')\n",
    "plt.xlabel('epochs')\n",
    "plt.ylabel('cost')\n",
    "plt.legend()\n",
    "plt.show()"
   ]
  },
  {
   "cell_type": "code",
   "execution_count": null,
   "metadata": {
    "collapsed": true
   },
   "outputs": [],
   "source": []
  },
  {
   "cell_type": "code",
   "execution_count": null,
   "metadata": {
    "collapsed": true
   },
   "outputs": [],
   "source": []
  }
 ],
 "metadata": {
  "kernelspec": {
   "display_name": "Python 3",
   "language": "python",
   "name": "python3"
  },
  "language_info": {
   "codemirror_mode": {
    "name": "ipython",
    "version": 3
   },
   "file_extension": ".py",
   "mimetype": "text/x-python",
   "name": "python",
   "nbconvert_exporter": "python",
   "pygments_lexer": "ipython3",
   "version": "3.5.2"
  }
 },
 "nbformat": 4,
 "nbformat_minor": 2
}
